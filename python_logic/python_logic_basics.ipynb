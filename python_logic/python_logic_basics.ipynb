{
 "cells": [
  {
   "cell_type": "markdown",
   "metadata": {},
   "source": [
    "# Python Logic Basics\n",
    "\n",
    "This notebook provides an overview of basic logic operations in Python, including comparison operators, logical operators, conditional statements, loops and other examples."
   ]
  },
  {
   "cell_type": "markdown",
   "metadata": {},
   "source": [
    "--------------------\n",
    "# I. Basic Concepts\n",
    "**This Section will discuss the following topics:**\n",
    "- Comparison Operators\n",
    "- Logical Operations\n",
    "- Conditional Statements\n",
    "- Loops"
   ]
  },
  {
   "cell_type": "markdown",
   "metadata": {},
   "source": [
    "## A. Comparison Operators\n",
    "\n",
    "Comparison operators are used to compare two values. The result of a comparison is a Boolean value: `True` or `False`.\n",
    "\n",
    "### List of Comparison Operators\n",
    "- `==`: Equal to\n",
    "- `!=`: Not equal to\n",
    "- `>`: Greater than\n",
    "- `<`: Less than\n",
    "- `>=`: Greater than or equal to\n",
    "- `<=`: Less than or equal to"
   ]
  },
  {
   "cell_type": "code",
   "execution_count": 1,
   "metadata": {},
   "outputs": [
    {
     "name": "stdout",
     "output_type": "stream",
     "text": [
      "False\n",
      "True\n",
      "True\n",
      "False\n",
      "True\n",
      "False\n"
     ]
    }
   ],
   "source": [
    "# Examples of comparison operators\n",
    "a = 5\n",
    "b = 3\n",
    "\n",
    "print(a == b)  # False\n",
    "print(a != b)  # True\n",
    "print(a > b)   # True\n",
    "print(a < b)   # False\n",
    "print(a >= b)  # True\n",
    "print(a <= b)  # False"
   ]
  },
  {
   "cell_type": "markdown",
   "metadata": {},
   "source": [
    "## B. Logical Operators\n",
    "\n",
    "Logical operators are used to combine conditional statements. They return `True` or `False` based on the logic they are used in.\n",
    "\n",
    "### List of Logical Operators\n",
    "- `and`: Returns `True` if both statements are true\n",
    "- `or`: Returns `True` if one of the statements is true\n",
    "- `not`: Reverses the result, returns `False` if the result is true"
   ]
  },
  {
   "cell_type": "code",
   "execution_count": 2,
   "metadata": {},
   "outputs": [
    {
     "name": "stdout",
     "output_type": "stream",
     "text": [
      "False\n",
      "True\n",
      "False\n"
     ]
    }
   ],
   "source": [
    "# Examples of logical operators\n",
    "x = True\n",
    "y = False\n",
    "\n",
    "print(x and y)  # False\n",
    "print(x or y)   # True\n",
    "print(not x)    # False"
   ]
  },
  {
   "cell_type": "markdown",
   "metadata": {},
   "source": [
    "## C. Conditional Statements\n",
    "\n",
    "Conditional statements are used to perform different actions based on different conditions.\n",
    "\n",
    "### Syntax of Conditional Statements\n",
    "```python\n",
    "if condition1:\n",
    "    # block of code if condition1 is true\n",
    "elif condition2:\n",
    "    # block of code if condition2 is true\n",
    "else:\n",
    "    # block of code if none of the above conditions are true\n",
    "```"
   ]
  },
  {
   "cell_type": "code",
   "execution_count": 3,
   "metadata": {},
   "outputs": [
    {
     "name": "stdout",
     "output_type": "stream",
     "text": [
      "Positive number\n"
     ]
    }
   ],
   "source": [
    "# Examples of conditional statements\n",
    "num = 10\n",
    "\n",
    "if num > 0:\n",
    "    print(\"Positive number\")\n",
    "elif num == 0:\n",
    "    print(\"Zero\")\n",
    "else:\n",
    "    print(\"Negative number\")"
   ]
  },
  {
   "cell_type": "markdown",
   "metadata": {},
   "source": [
    "## Nested Conditional Statements\n",
    "\n",
    "You can have one `if` statement inside another `if` statement. This is called nesting.\n",
    "\n",
    "### Example of Nested Conditional Statements"
   ]
  },
  {
   "cell_type": "code",
   "execution_count": 4,
   "metadata": {},
   "outputs": [
    {
     "name": "stdout",
     "output_type": "stream",
     "text": [
      "Positive number\n"
     ]
    }
   ],
   "source": [
    "# Example of nested conditional statements\n",
    "num = 10\n",
    "\n",
    "if num >= 0:\n",
    "    if num == 0:\n",
    "        print(\"Zero\")\n",
    "    else:\n",
    "        print(\"Positive number\")\n",
    "else:\n",
    "    print(\"Negative number\")"
   ]
  },
  {
   "cell_type": "markdown",
   "metadata": {},
   "source": [
    "## D. Basic Loops and Conditions\n",
    "\n",
    "Loops and conditions are fundamental concepts in programming. They allow us to execute code repeatedly and make decisions based on conditions.\n",
    "\n",
    "### For Loop\n",
    "The `for` loop is used to iterate over a sequence (like a list, tuple, dictionary, set, or string).\n",
    "```python\n",
    "for element in sequence:\n",
    "    # code block\n",
    "```\n",
    "\n",
    "### While Loop\n",
    "The `while` loop executes a set of statements as long as a condition is true.\n",
    "```python\n",
    "while condition:\n",
    "    # code block\n",
    "```\n",
    "\n",
    "### If Statement\n",
    "The `if` statement allows us to execute a block of code only if a condition is true.\n",
    "```python\n",
    "if condition:\n",
    "    # code block\n",
    "elif another_condition:\n",
    "    # another code block\n",
    "else:\n",
    "    # another code block\n",
    "```\n",
    "\n",
    "### Examples: Multiples and Matrix"
   ]
  },
  {
   "cell_type": "code",
   "execution_count": 5,
   "metadata": {},
   "outputs": [
    {
     "name": "stdout",
     "output_type": "stream",
     "text": [
      "3 6 9 12 15 18 21 24 27 30 1 2 3 \n",
      "4 5 6 \n",
      "7 8 9 \n"
     ]
    }
   ],
   "source": [
    "# Print multiples of 3 up to 30\n",
    "for i in range(1, 31):\n",
    "    if i % 3 == 0:\n",
    "        print(i, end=\" \")  # Output: 3 6 9 12 15 18 21 24 27 30\n",
    "\n",
    "# Create a 3x3 matrix and print it\n",
    "matrix = [[1, 2, 3], [4, 5, 6], [7, 8, 9]]\n",
    "for row in matrix:\n",
    "    for element in row:\n",
    "        print(element, end=\" \")\n",
    "    print()  # Newline after each row"
   ]
  },
  {
   "cell_type": "markdown",
   "metadata": {},
   "source": [
    "## Nested Loops\n",
    "\n",
    "Nested loops are loops inside other loops. They are useful for working with multi-dimensional data structures, like matrices.\n",
    "\n",
    "### Example: Multiplication Table"
   ]
  },
  {
   "cell_type": "code",
   "execution_count": 6,
   "metadata": {},
   "outputs": [
    {
     "name": "stdout",
     "output_type": "stream",
     "text": [
      "1\t2\t3\t4\t5\t\n",
      "2\t4\t6\t8\t10\t\n",
      "3\t6\t9\t12\t15\t\n",
      "4\t8\t12\t16\t20\t\n",
      "5\t10\t15\t20\t25\t\n"
     ]
    }
   ],
   "source": [
    "# Print a 5x5 multiplication table\n",
    "for i in range(1, 6):\n",
    "    for j in range(1, 6):\n",
    "        print(i * j, end=\"\\t\")\n",
    "    print()  # Newline after each row"
   ]
  },
  {
   "cell_type": "markdown",
   "metadata": {},
   "source": [
    "## Condensed Loops and Conditionals\n",
    "\n",
    "The following are concise ways of combining loops and conditionals using list comprehensions, highlighting their brevity and effectiveness in Python programming."
   ]
  },
  {
   "cell_type": "code",
   "execution_count": 30,
   "metadata": {},
   "outputs": [
    {
     "name": "stdout",
     "output_type": "stream",
     "text": [
      "Squared Numbers: [1, 4, 9, 16, 25]\n",
      "\n",
      "\n",
      "Even Numbers: [2, 4, 6, 8, 10]\n",
      "\n",
      "\n",
      "Uppercase String: ['H', 'E', 'L', 'L', 'O']\n",
      "\n",
      "\n",
      "Coordinates: [(0, 0), (0, 1), (0, 2), (1, 0), (1, 1), (1, 2), (2, 0), (2, 1), (2, 2)]\n",
      "\n",
      "\n",
      "Even or Odd: ['Odd', 'Even', 'Odd', 'Even', 'Odd', 'Even', 'Odd', 'Even', 'Odd', 'Even']\n",
      "\n",
      "\n"
     ]
    }
   ],
   "source": [
    "# Example 1: Looping through a range and squaring each number\n",
    "squared_numbers = [x**2 for x in range(1, 6)]\n",
    "print(\"Squared Numbers:\", squared_numbers)\n",
    "print('\\n')\n",
    "\n",
    "# Example 2: Looping through a list and filtering out even numbers\n",
    "numbers = [1, 2, 3, 4, 5, 6, 7, 8, 9, 10]\n",
    "even_numbers = [x for x in numbers if x % 2 == 0]\n",
    "print(\"Even Numbers:\", even_numbers)\n",
    "print('\\n')\n",
    "\n",
    "# Example 3: Looping through a string and converting each character to uppercase\n",
    "string = \"hello\"\n",
    "uppercase_string = [char.upper() for char in string]\n",
    "print(\"Uppercase String:\", uppercase_string)\n",
    "print('\\n')\n",
    "\n",
    "# Example 4: Nested loop to create a list of tuples\n",
    "coordinates = [(x, y) for x in range(3) for y in range(3)]\n",
    "print(\"Coordinates:\", coordinates)\n",
    "print('\\n')\n",
    "\n",
    "# Example 5: Using ternary conditional operator inside a list comprehension\n",
    "numbers = [1, 2, 3, 4, 5, 6, 7, 8, 9, 10]\n",
    "even_or_odd = [\"Even\" if x % 2 == 0 else \"Odd\" for x in numbers]\n",
    "print(\"Even or Odd:\", even_or_odd)\n",
    "print('\\n')\n"
   ]
  },
  {
   "cell_type": "markdown",
   "metadata": {},
   "source": [
    "--------------------\n",
    "# II. Logic Application\n",
    "**This Section will discuss the following topics:**\n",
    "- ASCII Art\n",
    "- String Manipulation\n",
    "- Application of Concepts (Exercises)\n",
    "\n"
   ]
  },
  {
   "cell_type": "markdown",
   "metadata": {},
   "source": [
    "## A. ASCII Art\n",
    "\n",
    "ASCII art uses characters to create images or designs. It's a fun way to practice loops and conditions.\n",
    "\n",
    "### Example: Printing a Triangle"
   ]
  },
  {
   "cell_type": "code",
   "execution_count": 34,
   "metadata": {},
   "outputs": [
    {
     "name": "stdout",
     "output_type": "stream",
     "text": [
      "Right Triangle\n",
      "*\n",
      "**\n",
      "***\n",
      "****\n",
      "*****\n",
      "\n",
      "\n",
      "Inverted Triangle\n",
      "*****\n",
      "****\n",
      "***\n",
      "**\n",
      "*\n",
      "\n",
      "\n",
      "Centered Triangle\n",
      "    *\n",
      "   ***\n",
      "  *****\n",
      " *******\n",
      "*********\n"
     ]
    }
   ],
   "source": [
    "# Print a triangle\n",
    "height = 5\n",
    "print('Right Triangle')\n",
    "for i in range(1, height + 1):\n",
    "    print('*' * i)\n",
    "\n",
    "print('\\n')\n",
    "\n",
    "# Print an inverted triangle\n",
    "height = 5\n",
    "print('Inverted Triangle')\n",
    "for i in range(height, 0, -1):\n",
    "    print('*' * i)    \n",
    "\n",
    "print('\\n')\n",
    "\n",
    "# Print a centered triangle\n",
    "height = 5\n",
    "print('Centered Triangle')\n",
    "for i in range(1, height + 1):\n",
    "    print(' ' * (height - i) + '*' * (2 * i - 1))    "
   ]
  },
  {
   "cell_type": "markdown",
   "metadata": {},
   "source": [
    "### Example: Printing a Butterfly"
   ]
  },
  {
   "cell_type": "code",
   "execution_count": 31,
   "metadata": {},
   "outputs": [
    {
     "name": "stdout",
     "output_type": "stream",
     "text": [
      "*        *\n",
      "**      **\n",
      "***    ***\n",
      "****  ****\n",
      "**********\n",
      "**********\n",
      "****  ****\n",
      "***    ***\n",
      "**      **\n",
      "*        *\n"
     ]
    }
   ],
   "source": [
    "n = 5\n",
    "\n",
    "# Upper half of the butterfly\n",
    "for i in range(1, n + 1):\n",
    "    for j in range(i):\n",
    "        print(\"*\", end=\"\")\n",
    "    for j in range(2 * (n - i)):\n",
    "        print(\" \", end=\"\")\n",
    "    for j in range(i):\n",
    "        print(\"*\", end=\"\")\n",
    "    print()\n",
    "\n",
    "# Lower half of the butterfly\n",
    "for i in range(n, 0, -1):\n",
    "    for j in range(i):\n",
    "        print(\"*\", end=\"\")\n",
    "    for j in range(2 * (n - i)):\n",
    "        print(\" \", end=\"\")\n",
    "    for j in range(i):\n",
    "        print(\"*\", end=\"\")\n",
    "    print()"
   ]
  },
  {
   "cell_type": "markdown",
   "metadata": {},
   "source": [
    "## B. String Manipulation\n",
    "\n",
    "String manipulation is a crucial skill in programming. It includes tasks like finding substrings, counting characters, and checking for palindromes.\n",
    "\n",
    "### Example: Palindrome Check\n",
    "A palindrome is a string that reads the same forwards and backwards."
   ]
  },
  {
   "cell_type": "code",
   "execution_count": 11,
   "metadata": {},
   "outputs": [
    {
     "name": "stdout",
     "output_type": "stream",
     "text": [
      "True\n",
      "False\n"
     ]
    }
   ],
   "source": [
    "# Check if a string is a palindrome\n",
    "def is_palindrome(s):\n",
    "    return s == s[::-1]\n",
    "\n",
    "print(is_palindrome('racecar'))  # True\n",
    "print(is_palindrome('hello'))    # False"
   ]
  },
  {
   "cell_type": "markdown",
   "metadata": {},
   "source": [
    "### Example: Substring Count\n",
    "Count how many times a substring appears in a string."
   ]
  },
  {
   "cell_type": "code",
   "execution_count": 12,
   "metadata": {},
   "outputs": [
    {
     "name": "stdout",
     "output_type": "stream",
     "text": [
      "1\n",
      "2\n"
     ]
    }
   ],
   "source": [
    "# Count occurrences of a substring\n",
    "def count_substring(main_str, sub_str):\n",
    "    return main_str.count(sub_str)\n",
    "\n",
    "main_string = 'banana'\n",
    "substring = 'ana'\n",
    "print(count_substring(main_string, substring))  # Output: 1\n",
    "\n",
    "main_string = 'aaaaa'\n",
    "substring = 'aa'\n",
    "print(count_substring(main_string, substring))  # Output: 2"
   ]
  },
  {
   "cell_type": "markdown",
   "metadata": {},
   "source": [
    "## Examples\n",
    "\n",
    "### Example 1: Print Multiples of 5\n",
    "Write a program to print multiples of 5 up to 50.\n",
    "\n",
    "### Example 2: Square ASCII Art\n",
    "Write a program to print a square of size `n` using the `#` character.\n",
    "\n",
    "### Example 3: Star ASCII Art\n",
    "Write a program to print a star of size `n` using the `#` character.\n",
    "\n",
    "### Example 4: Substring Replacement\n",
    "Write a program to replace all occurrences of a substring within a string with another substring.\n",
    "\n",
    "### Example 5: String Reversal\n",
    "Write a program to reverse a given string."
   ]
  },
  {
   "cell_type": "markdown",
   "metadata": {},
   "source": [
    "## Answers\n",
    "\n",
    "### Answer 1: Print Multiples of 5"
   ]
  },
  {
   "cell_type": "code",
   "execution_count": 13,
   "metadata": {},
   "outputs": [
    {
     "name": "stdout",
     "output_type": "stream",
     "text": [
      "5 10 15 20 25 30 35 40 45 50 "
     ]
    }
   ],
   "source": [
    "# Print multiples of 5 up to 50\n",
    "for i in range(1, 51):\n",
    "    if i % 5 == 0:\n",
    "        print(i, end=\" \")  # Output: 5 10 15 20 25 30 35 40 45 50"
   ]
  },
  {
   "cell_type": "markdown",
   "metadata": {},
   "source": [
    "### Answer 2: Square ASCII Art"
   ]
  },
  {
   "cell_type": "code",
   "execution_count": 27,
   "metadata": {},
   "outputs": [
    {
     "name": "stdout",
     "output_type": "stream",
     "text": [
      "#####\n",
      "#####\n",
      "#####\n",
      "#####\n",
      "#####\n"
     ]
    }
   ],
   "source": [
    "# Print a square of size n using '#'\n",
    "n = 5\n",
    "for i in range(n):\n",
    "    print('#' * n)\n",
    "    # Output:\n",
    "    # ####\n",
    "    # ####\n",
    "    # ####\n",
    "    # ####"
   ]
  },
  {
   "cell_type": "markdown",
   "metadata": {},
   "source": [
    "### Answer 3: Hollow Square ASCII Art"
   ]
  },
  {
   "cell_type": "code",
   "execution_count": 26,
   "metadata": {},
   "outputs": [
    {
     "name": "stdout",
     "output_type": "stream",
     "text": [
      "#####\n",
      "#   #\n",
      "#   #\n",
      "#   #\n",
      "#####\n"
     ]
    }
   ],
   "source": [
    "# Print a square of size n using '#'\n",
    "n = 5\n",
    "for i in range(n):\n",
    "    for j in range(n):\n",
    "        if i == 0 or i == n - 1 or j == 0 or j == n - 1:\n",
    "            print(\"#\", end=\"\")\n",
    "        else:\n",
    "            print(\" \", end=\"\")\n",
    "    print()"
   ]
  },
  {
   "cell_type": "markdown",
   "metadata": {},
   "source": [
    "### Answer 4: Substring Replacement"
   ]
  },
  {
   "cell_type": "code",
   "execution_count": 23,
   "metadata": {},
   "outputs": [
    {
     "name": "stdout",
     "output_type": "stream",
     "text": [
      "hello universe, universe is great\n"
     ]
    }
   ],
   "source": [
    "# Replace all occurrences of a substring\n",
    "def replace_substring(main_str, old_sub, new_sub):\n",
    "    return main_str.replace(old_sub, new_sub)\n",
    "\n",
    "main_string = 'hello world, world is great'\n",
    "old_substring = 'world'\n",
    "new_substring = 'universe'\n",
    "print(replace_substring(main_string, old_substring, new_substring))\n",
    "# Output: 'hello universe, universe is great'"
   ]
  },
  {
   "cell_type": "markdown",
   "metadata": {},
   "source": [
    "### Answer 5: String Reversal"
   ]
  },
  {
   "cell_type": "code",
   "execution_count": 16,
   "metadata": {},
   "outputs": [
    {
     "name": "stdout",
     "output_type": "stream",
     "text": [
      "olleh\n",
      "nohtyP\n"
     ]
    }
   ],
   "source": [
    "# Reverse a string\n",
    "def reverse_string(s):\n",
    "    return s[::-1]\n",
    "\n",
    "print(reverse_string('hello'))  # Output: 'olleh'\n",
    "print(reverse_string('Python'))  # Output: 'nohtyP'"
   ]
  },
  {
   "cell_type": "markdown",
   "metadata": {},
   "source": [
    "## Advanced String Manipulation\n",
    "\n",
    "### Example: Anagram Check\n",
    "An anagram is a word or phrase formed by rearranging the letters of another.\n",
    "\n",
    "To check if two strings are anagrams, we can sort the characters in each string and compare the sorted versions."
   ]
  },
  {
   "cell_type": "code",
   "execution_count": 17,
   "metadata": {},
   "outputs": [
    {
     "name": "stdout",
     "output_type": "stream",
     "text": [
      "True\n",
      "False\n"
     ]
    }
   ],
   "source": [
    "# Check if two strings are anagrams\n",
    "def are_anagrams(str1, str2):\n",
    "    return sorted(str1) == sorted(str2)\n",
    "\n",
    "print(are_anagrams('listen', 'silent'))  # True\n",
    "print(are_anagrams('hello', 'world'))    # False"
   ]
  },
  {
   "cell_type": "markdown",
   "metadata": {},
   "source": [
    "### Example: Character Frequency\n",
    "Count the frequency of each character in a string."
   ]
  },
  {
   "cell_type": "code",
   "execution_count": 18,
   "metadata": {},
   "outputs": [
    {
     "name": "stdout",
     "output_type": "stream",
     "text": [
      "{'h': 1, 'e': 1, 'l': 2, 'o': 1}\n"
     ]
    }
   ],
   "source": [
    "# Count character frequency in a string\n",
    "def char_frequency(s):\n",
    "    freq = {}\n",
    "    for char in s:\n",
    "        if char in freq:\n",
    "            freq[char] += 1\n",
    "        else:\n",
    "            freq[char] = 1\n",
    "    return freq\n",
    "\n",
    "print(char_frequency('hello'))  # {'h': 1, 'e': 1, 'l': 2, 'o': 1}"
   ]
  },
  {
   "cell_type": "markdown",
   "metadata": {},
   "source": [
    "## Harder Examples\n",
    "\n",
    "### Example 1: Prime Numbers\n",
    "Write a program to print all prime numbers up to 100.\n",
    "\n",
    "### Example 2: Diamond ASCII Art\n",
    "Write a program to print a diamond shape of size `n` using the `*` character.\n",
    "\n",
    "### Example 3: Caesar Cipher\n",
    "Write a program to encrypt a string using the Caesar cipher.\n",
    "\n",
    "### Example 4: String Compression\n",
    "Write a program to compress a string using the counts of repeated characters."
   ]
  },
  {
   "cell_type": "markdown",
   "metadata": {},
   "source": [
    "## More Answers\n",
    "\n",
    "### Answer 1: Prime Numbers"
   ]
  },
  {
   "cell_type": "code",
   "execution_count": 19,
   "metadata": {},
   "outputs": [
    {
     "name": "stdout",
     "output_type": "stream",
     "text": [
      "2 3 5 7 11 13 17 19 23 29 31 37 41 43 47 53 59 61 67 71 73 79 83 89 97 "
     ]
    }
   ],
   "source": [
    "# Print all prime numbers up to 100\n",
    "def is_prime(n):\n",
    "    if n <= 1:\n",
    "        return False\n",
    "    for i in range(2, int(n ** 0.5) + 1):\n",
    "        if n % i == 0:\n",
    "            return False\n",
    "    return True\n",
    "\n",
    "for i in range(2, 101):\n",
    "    if is_prime(i):\n",
    "        print(i, end=\" \")  # Output: 2 3 5 7 11 13 17 19 23 29 31 37 41 43 47 53 59 61 67 71 73 79 83 89 97"
   ]
  },
  {
   "cell_type": "markdown",
   "metadata": {},
   "source": [
    "### Answer 2: Diamond ASCII Art"
   ]
  },
  {
   "cell_type": "code",
   "execution_count": 20,
   "metadata": {},
   "outputs": [
    {
     "name": "stdout",
     "output_type": "stream",
     "text": [
      "    *\n",
      "   ***\n",
      "  *****\n",
      " *******\n",
      "*********\n",
      " *******\n",
      "  *****\n",
      "   ***\n",
      "    *\n"
     ]
    }
   ],
   "source": [
    "# Print a diamond of size n using '*'\n",
    "n = 5\n",
    "for i in range(1, n + 1):\n",
    "    print(' ' * (n - i) + '*' * (2 * i - 1))\n",
    "for i in range(n - 1, 0, -1):\n",
    "    print(' ' * (n - i) + '*' * (2 * i - 1))\n",
    "# Output:\n",
    "#     *\n",
    "#    ***\n",
    "#   *****\n",
    "#  *******\n",
    "# *********\n",
    "#  *******\n",
    "#   *****\n",
    "#    ***\n",
    "#     *"
   ]
  },
  {
   "cell_type": "markdown",
   "metadata": {},
   "source": [
    "### Answer 3: Caesar Cipher"
   ]
  },
  {
   "cell_type": "code",
   "execution_count": 21,
   "metadata": {},
   "outputs": [
    {
     "name": "stdout",
     "output_type": "stream",
     "text": [
      "KHOOR\n",
      "khoor\n"
     ]
    }
   ],
   "source": [
    "# Encrypt a string using Caesar cipher\n",
    "def caesar_cipher(text, shift):\n",
    "    result = \"\"\n",
    "    for i in range(len(text)):\n",
    "        char = text[i]\n",
    "        # Encrypt uppercase characters\n",
    "        if char.isupper():\n",
    "            result += chr((ord(char) + shift - 65) % 26 + 65)\n",
    "        # Encrypt lowercase characters\n",
    "        else:\n",
    "            result += chr((ord(char) + shift - 97) % 26 + 97)\n",
    "    return result\n",
    "\n",
    "text = \"HELLO\"\n",
    "shift = 3\n",
    "print(caesar_cipher(text, shift))  # Output: KHOOR\n",
    "\n",
    "text = \"hello\"\n",
    "shift = 3\n",
    "print(caesar_cipher(text, shift))  # Output: khoor"
   ]
  },
  {
   "cell_type": "markdown",
   "metadata": {},
   "source": [
    "### Answer 4: String Compression"
   ]
  },
  {
   "cell_type": "code",
   "execution_count": 22,
   "metadata": {},
   "outputs": [
    {
     "name": "stdout",
     "output_type": "stream",
     "text": [
      "a3b2c2\n",
      "a1b1c1d1\n"
     ]
    }
   ],
   "source": [
    "# Compress a string using counts of repeated characters\n",
    "def compress_string(s):\n",
    "    compressed = \"\"\n",
    "    count = 1\n",
    "    for i in range(len(s) - 1):\n",
    "        if s[i] == s[i + 1]:\n",
    "            count += 1\n",
    "        else:\n",
    "            compressed += s[i] + str(count)\n",
    "            count = 1\n",
    "    compressed += s[-1] + str(count)\n",
    "    return compressed\n",
    "\n",
    "print(compress_string('aaabbcc'))  # Output: a3b2c2\n",
    "print(compress_string('abcd'))     # Output: a1b1c1d1"
   ]
  },
  {
   "cell_type": "markdown",
   "metadata": {},
   "source": [
    "# Exercises :P\n",
    "### Basic Problems\n",
    "1. Check if a given number is even or odd.\n",
    "2. Write a program to check if a number is prime.\n",
    "3. Given a list of integers, find the maximum and minimum elements.\n",
    "4. Write a function to determine if a year is a leap year.\n",
    "5. Write a program to find the factorial of a number."
   ]
  },
  {
   "cell_type": "markdown",
   "metadata": {},
   "source": [
    "### Advanced Problems\n",
    "1. Write a function to find the nth Fibonacci number.\n",
    "2. Implement the binary search algorithm.\n",
    "3. Write a program to count the number of vowels in a string.\n",
    "4. Implement a function to calculate the sum of digits in a number.\n",
    "5. Given two lists, write a function to find the intersection of the two lists."
   ]
  },
  {
   "cell_type": "markdown",
   "metadata": {},
   "source": [
    "### Challenging Problems\n",
    "1. Write a function to generate all possible permutations of a list of unique integers.\n",
    "2. Write a function to find the longest palindromic substring in a given string.\n",
    "3. Write a program to find all pairs of integers in a given list that sum up to a specific target value.\n",
    "4. Write a function to find the longest common prefix string amongst an array of strings.\n",
    "5. Given a list of integers, write a function to find the longest increasing subsequence (LIS) and return its length."
   ]
  },
  {
   "cell_type": "markdown",
   "metadata": {},
   "source": [
    "### **HAWL UP:** Before Checking the answer key, try to do it on your own first."
   ]
  },
  {
   "cell_type": "markdown",
   "metadata": {},
   "source": []
  },
  {
   "cell_type": "markdown",
   "metadata": {},
   "source": []
  },
  {
   "cell_type": "markdown",
   "metadata": {},
   "source": []
  },
  {
   "cell_type": "markdown",
   "metadata": {},
   "source": [
    "## Answer Key: Basic Problems"
   ]
  },
  {
   "cell_type": "code",
   "execution_count": 2,
   "metadata": {},
   "outputs": [
    {
     "name": "stdout",
     "output_type": "stream",
     "text": [
      "Odd\n",
      "Even\n"
     ]
    }
   ],
   "source": [
    "# Question 1\n",
    "## 1. Check if a given number is even or odd.\n",
    "def is_even_or_odd(num):\n",
    "    if num % 2 == 0:\n",
    "        return 'Even'\n",
    "    else:\n",
    "        return 'Odd'\n",
    "\n",
    "print(is_even_or_odd(5))  # Output: Odd\n",
    "print(is_even_or_odd(8))  # Output: Even"
   ]
  },
  {
   "cell_type": "code",
   "execution_count": 3,
   "metadata": {},
   "outputs": [
    {
     "name": "stdout",
     "output_type": "stream",
     "text": [
      "True\n",
      "False\n"
     ]
    }
   ],
   "source": [
    "# Question 2\n",
    "## 2. Write a program to check if a number is prime.\n",
    "def is_prime(num):\n",
    "    if num <= 1:\n",
    "        return False\n",
    "    for i in range(2, int(num**0.5) + 1):\n",
    "        if num % i == 0:\n",
    "            return False\n",
    "    return True\n",
    "\n",
    "print(is_prime(7))   # Output: True\n",
    "print(is_prime(10))  # Output: False"
   ]
  },
  {
   "cell_type": "code",
   "execution_count": 4,
   "metadata": {},
   "outputs": [
    {
     "name": "stdout",
     "output_type": "stream",
     "text": [
      "(5, 1)\n"
     ]
    }
   ],
   "source": [
    "# Question 3\n",
    "## 3. Given a list of integers, find the maximum and minimum elements.\n",
    "def find_max_min(nums):\n",
    "    if not nums:\n",
    "        return None, None\n",
    "    max_num = min_num = nums[0]\n",
    "    for num in nums:\n",
    "        if num > max_num:\n",
    "            max_num = num\n",
    "        elif num < min_num:\n",
    "            min_num = num\n",
    "    return max_num, min_num\n",
    "\n",
    "print(find_max_min([1, 2, 3, 4, 5]))  # Output: (5, 1)"
   ]
  },
  {
   "cell_type": "code",
   "execution_count": 8,
   "metadata": {},
   "outputs": [
    {
     "name": "stdout",
     "output_type": "stream",
     "text": [
      "True\n"
     ]
    }
   ],
   "source": [
    "# Question 4\n",
    "## 4. Write a function to determine if a year is a leap year.\n",
    "def is_leap_year(year):\n",
    "    if year % 4 == 0:\n",
    "        if year % 100 == 0:\n",
    "            if year % 400 == 0:\n",
    "                return True\n",
    "            return False\n",
    "        return True\n",
    "    return False\n",
    "\n",
    "print(is_leap_year(2020))  # Output: True"
   ]
  },
  {
   "cell_type": "code",
   "execution_count": 6,
   "metadata": {},
   "outputs": [
    {
     "name": "stdout",
     "output_type": "stream",
     "text": [
      "120\n"
     ]
    }
   ],
   "source": [
    "# Question 5\n",
    "## 5. Write a program to find the factorial of a number.\n",
    "def factorial(n):\n",
    "    if n == 0:\n",
    "        return 1\n",
    "    else:\n",
    "        return n * factorial(n-1)\n",
    "\n",
    "print(factorial(5))  # Output: 120"
   ]
  },
  {
   "cell_type": "markdown",
   "metadata": {},
   "source": [
    "## Answer Key: Advanced Problems"
   ]
  },
  {
   "cell_type": "code",
   "execution_count": 9,
   "metadata": {},
   "outputs": [
    {
     "name": "stdout",
     "output_type": "stream",
     "text": [
      "5\n",
      "55\n"
     ]
    }
   ],
   "source": [
    "# Question 1\n",
    "## 1. Write a function to find the nth Fibonacci number.\n",
    "def fibonacci(n):\n",
    "    if n <= 1:\n",
    "        return n\n",
    "    else:\n",
    "        return fibonacci(n-1) + fibonacci(n-2)\n",
    "\n",
    "print(fibonacci(5))  # Output: 5\n",
    "print(fibonacci(10)) # Output: 55"
   ]
  },
  {
   "cell_type": "code",
   "execution_count": 10,
   "metadata": {},
   "outputs": [
    {
     "name": "stdout",
     "output_type": "stream",
     "text": [
      "2\n"
     ]
    }
   ],
   "source": [
    "# Question 2\n",
    "## 2. Implement the binary search algorithm.\n",
    "def binary_search(arr, target):\n",
    "    low = 0\n",
    "    high = len(arr) - 1\n",
    "    while low <= high:\n",
    "        mid = (low + high) // 2\n",
    "        if arr[mid] == target:\n",
    "            return mid\n",
    "        elif arr[mid] < target:\n",
    "            low = mid + 1\n",
    "        else:\n",
    "            high = mid - 1\n",
    "    return -1\n",
    "\n",
    "print(binary_search([1, 2, 3, 4, 5], 3))  # Output: 2"
   ]
  },
  {
   "cell_type": "code",
   "execution_count": 11,
   "metadata": {},
   "outputs": [
    {
     "name": "stdout",
     "output_type": "stream",
     "text": [
      "2\n"
     ]
    }
   ],
   "source": [
    "# Question 3\n",
    "## 3. Write a program to count the number of vowels in a string.\n",
    "def count_vowels(s):\n",
    "    vowels = 'aeiouAEIOU'\n",
    "    count = 0\n",
    "    for char in s:\n",
    "        if char in vowels:\n",
    "            count += 1\n",
    "    return count\n",
    "\n",
    "print(count_vowels('hello'))  # Output: 2"
   ]
  },
  {
   "cell_type": "code",
   "execution_count": 12,
   "metadata": {},
   "outputs": [
    {
     "name": "stdout",
     "output_type": "stream",
     "text": [
      "6\n"
     ]
    }
   ],
   "source": [
    "# Question 4\n",
    "## 4. Implement a function to calculate the sum of digits in a number.\n",
    "def sum_of_digits(n):\n",
    "    total = 0\n",
    "    while n > 0:\n",
    "        total += n % 10\n",
    "        n //= 10\n",
    "    return total\n",
    "\n",
    "print(sum_of_digits(123))  # Output: 6"
   ]
  },
  {
   "cell_type": "code",
   "execution_count": 13,
   "metadata": {},
   "outputs": [
    {
     "name": "stdout",
     "output_type": "stream",
     "text": [
      "[2, 3]\n"
     ]
    }
   ],
   "source": [
    "# Question 5\n",
    "## 5. Given two lists, write a function to find the intersection of the two lists.\n",
    "def find_intersection(list1, list2):\n",
    "    return list(set(list1) & set(list2))\n",
    "\n",
    "print(find_intersection([1, 2, 3], [2, 3, 4]))  # Output: [2, 3]"
   ]
  },
  {
   "cell_type": "markdown",
   "metadata": {},
   "source": [
    "## Answer Key: Challenging Problems"
   ]
  },
  {
   "cell_type": "code",
   "execution_count": 15,
   "metadata": {},
   "outputs": [
    {
     "name": "stdout",
     "output_type": "stream",
     "text": [
      "[[1, 2, 3], [1, 3, 2], [2, 1, 3], [2, 3, 1], [3, 1, 2], [3, 2, 1]]\n"
     ]
    }
   ],
   "source": [
    "# Question 1\n",
    "## 1. Write a program to generate all possible permutations of a list of unique integers.\n",
    "def permutations(nums):\n",
    "    if len(nums) == 0:\n",
    "        return [[]]\n",
    "    result = []\n",
    "    for i in range(len(nums)):\n",
    "        remaining_nums = nums[:i] + nums[i+1:]\n",
    "        for perm in permutations(remaining_nums):\n",
    "            result.append([nums[i]] + perm)\n",
    "    return result\n",
    "\n",
    "print(permutations([1, 2, 3]))"
   ]
  },
  {
   "cell_type": "code",
   "execution_count": 20,
   "metadata": {},
   "outputs": [
    {
     "name": "stdout",
     "output_type": "stream",
     "text": [
      "bab\n"
     ]
    }
   ],
   "source": [
    "# Question 2\n",
    "## 2. Write a function to find the longest palindromic substring in a given string.\n",
    "def longest_palindromic_substring(s):\n",
    "    def expand_around_center(left, right):\n",
    "        while left >= 0 and right < len(s) and s[left] == s[right]:\n",
    "            left -= 1\n",
    "            right += 1\n",
    "        return s[left + 1:right]\n",
    "    \n",
    "    if len(s) == 0:\n",
    "        return \"\"\n",
    "    \n",
    "    longest = \"\"\n",
    "    for i in range(len(s)):\n",
    "        odd_palindrome = expand_around_center(i, i)\n",
    "        even_palindrome = expand_around_center(i, i + 1)\n",
    "        if len(odd_palindrome) > len(longest):\n",
    "            longest = odd_palindrome\n",
    "        if len(even_palindrome) > len(longest):\n",
    "            longest = even_palindrome\n",
    "    return longest\n",
    "\n",
    "print(longest_palindromic_substring(\"babad\"))  # Output: \"bab\" or \"aba\""
   ]
  },
  {
   "cell_type": "code",
   "execution_count": 17,
   "metadata": {},
   "outputs": [
    {
     "name": "stdout",
     "output_type": "stream",
     "text": [
      "[(1, 4), (2, 3)]\n"
     ]
    }
   ],
   "source": [
    "# Question 3\n",
    "## Find all pairs of integers in a given list that sum up to a specific target value.\n",
    "\n",
    "def find_pairs(nums, target):\n",
    "    pairs = []\n",
    "    num_set = set(nums)\n",
    "    for num in nums:\n",
    "        complement = target - num\n",
    "        if complement in num_set:\n",
    "            pairs.append((num, complement))\n",
    "            num_set.remove(num)  # Avoid duplicates\n",
    "    return pairs\n",
    "\n",
    "print(find_pairs([1, 2, 3, 4, 5], 5))  # Output: [(1, 4), (2, 3)]"
   ]
  },
  {
   "cell_type": "code",
   "execution_count": 18,
   "metadata": {},
   "outputs": [
    {
     "name": "stdout",
     "output_type": "stream",
     "text": [
      "fl\n"
     ]
    }
   ],
   "source": [
    "# Question 4\n",
    "## Write a function to find the longest common prefix string amongst an array of strings.\n",
    "def longest_common_prefix(strings):\n",
    "    if not strings:\n",
    "        return \"\"\n",
    "    prefix = strings[0]\n",
    "    for string in strings[1:]:\n",
    "        while string.find(prefix) != 0:\n",
    "            prefix = prefix[:-1]\n",
    "            if not prefix:\n",
    "                return \"\"\n",
    "    return prefix\n",
    "\n",
    "print(longest_common_prefix([\"flower\", \"flow\", \"flight\"]))  # Output: \"fl\""
   ]
  },
  {
   "cell_type": "code",
   "execution_count": 21,
   "metadata": {},
   "outputs": [
    {
     "name": "stdout",
     "output_type": "stream",
     "text": [
      "4\n"
     ]
    }
   ],
   "source": [
    "# Question 5\n",
    "## 5. Find the longest increasing subsequence (LIS) and return its length:\n",
    "def longest_increasing_subsequence(nums):\n",
    "    if not nums:\n",
    "        return 0\n",
    "    dp = [1] * len(nums)\n",
    "    for i in range(1, len(nums)):\n",
    "        for j in range(i):\n",
    "            if nums[i] > nums[j]:\n",
    "                dp[i] = max(dp[i], dp[j] + 1)\n",
    "    return max(dp)\n",
    "\n",
    "print(longest_increasing_subsequence([10, 9, 2, 5, 3, 7, 101, 18]))  # Output: 4\n"
   ]
  }
 ],
 "metadata": {
  "kernelspec": {
   "display_name": "Python 3",
   "language": "python",
   "name": "python3"
  },
  "language_info": {
   "codemirror_mode": {
    "name": "ipython",
    "version": 3
   },
   "file_extension": ".py",
   "mimetype": "text/x-python",
   "name": "python",
   "nbconvert_exporter": "python",
   "pygments_lexer": "ipython3",
   "version": "3.12.2"
  }
 },
 "nbformat": 4,
 "nbformat_minor": 4
}
