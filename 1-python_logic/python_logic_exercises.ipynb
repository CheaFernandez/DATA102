{
  "cells": [
    {
      "cell_type": "markdown",
      "metadata": {
        "id": "1LO6mrw921Gt"
      },
      "source": [
        "## Python Logic Exercises\n",
        "\n",
        "*Prepared by:*\n",
        "**Jude Michael Teves**  \n",
        "Faculty, Software Technology Department  \n",
        "College of Computer Studies - De La Salle University"
      ]
    },
    {
      "cell_type": "markdown",
      "metadata": {
        "id": "XPasdhKC21Gx"
      },
      "source": [
        "For the following questions, you may not use any third-party library such as `numpy`, `pandas`, and `matplotlib`. Utilize loops and conditional statements."
      ]
    },
    {
      "cell_type": "markdown",
      "metadata": {
        "id": "LPdQ7x-221Gy"
      },
      "source": [
        "## Basic Loops and Conditions"
      ]
    },
    {
      "cell_type": "markdown",
      "metadata": {
        "id": "64-mgSUg21Gy"
      },
      "source": [
        "### Problem 1: Multiples\n",
        "\n",
        "Write a Python program to find numbers which are divisible by 8 and multiples of 3, between 1000 and 1500 (both included)."
      ]
    },
    {
      "cell_type": "code",
      "execution_count": 1,
      "metadata": {
        "id": "2zd9IQ2121Gz",
        "outputId": "1fc69b68-2701-4815-c724-a57a89f84f62"
      },
      "outputs": [],
      "source": [
        "# YOUR CODE HERE\n",
        "output =  [num for num in range (1000,1500) if num % 8 == 0 and num % 3 == 0] # replace the blank with your output"
      ]
    },
    {
      "cell_type": "code",
      "execution_count": 2,
      "metadata": {
        "id": "R12mOdh021G0",
        "outputId": "5415c5e8-c4c5-4457-f9c3-4c9e6c23cde6"
      },
      "outputs": [
        {
          "name": "stdout",
          "output_type": "stream",
          "text": [
            "Program executed successfully!\n"
          ]
        }
      ],
      "source": [
        "# DO NOT MODIFY\n",
        "# the code below is for testing if your logic is correct\n",
        "# this will return an error if you have a wrong implementation\n",
        "\n",
        "assert output == [1008, 1032, 1056, 1080, 1104, 1128, 1152, 1176, 1200, 1224, 1248, 1272, 1296, 1320, 1344, 1368, 1392, 1416, 1440, 1464, 1488]\n",
        "print(\"Program executed successfully!\")"
      ]
    },
    {
      "cell_type": "markdown",
      "metadata": {
        "id": "tAUJrvOL21G1"
      },
      "source": [
        "### Problem 2: Matrix\n",
        "\n",
        "Write a function that takes two digits `m (row)` and `n (column)` as parameters/inputs and generates a two-dimensional array. The element value in the `i-th` row and `j-th` column of the array should be `i*j`.\n",
        "\n",
        "Note that this is 0-indexed, meaning we start at 0. For example:  \n",
        "```\n",
        "i = 0,1.., m-1  \n",
        "j = 0,1, n-1.  \n",
        "```\n",
        "\n",
        "Sample scenario 1:\n",
        "```\n",
        "Input : Rows = 3, Columns = 4\n",
        "Output : [[0, 0, 0, 0], [0, 1, 2, 3], [0, 2, 4, 6]]\n",
        "```\n",
        "\n",
        "Sample scenario 2:\n",
        "```\n",
        "Input : Rows = 5, Columns = 5\n",
        "Output: [[0, 0, 0, 0, 0], [0, 1, 2, 3, 4], [0, 2, 4, 6, 8], [0, 3, 6, 9, 12], [0, 4, 8, 12, 16]]\n",
        "```"
      ]
    },
    {
      "cell_type": "code",
      "execution_count": 4,
      "metadata": {
        "id": "Poo8QNxa21G1",
        "outputId": "1db1406f-09da-4fe5-d868-344212c99f20"
      },
      "outputs": [
        {
          "name": "stdout",
          "output_type": "stream",
          "text": [
            "[[0, 0, 0, 0], [0, 1, 2, 3], [0, 2, 4, 6]]\n",
            "[[0, 0, 0, 0, 0], [0, 1, 2, 3, 4], [0, 2, 4, 6, 8], [0, 3, 6, 9, 12], [0, 4, 8, 12, 16]]\n",
            "[[0, 0, 0, 0, 0, 0, 0, 0, 0, 0], [0, 1, 2, 3, 4, 5, 6, 7, 8, 9], [0, 2, 4, 6, 8, 10, 12, 14, 16, 18], [0, 3, 6, 9, 12, 15, 18, 21, 24, 27], [0, 4, 8, 12, 16, 20, 24, 28, 32, 36], [0, 5, 10, 15, 20, 25, 30, 35, 40, 45], [0, 6, 12, 18, 24, 30, 36, 42, 48, 54], [0, 7, 14, 21, 28, 35, 42, 49, 56, 63], [0, 8, 16, 24, 32, 40, 48, 56, 64, 72], [0, 9, 18, 27, 36, 45, 54, 63, 72, 81]]\n"
          ]
        }
      ],
      "source": [
        "def matrix(m:int, n:int) -> list:\n",
        "    # YOUR CODE HERE\n",
        "    output = []\n",
        "    i = 0\n",
        "    j = 0\n",
        "\n",
        "    for i in range(m): # for each row\n",
        "        output.append([])\n",
        "        for j in range(n): # for each column\n",
        "            output[i].append(i*j)\n",
        "\n",
        "    return output\n",
        "\n",
        "print(matrix(3,4))\n",
        "print(matrix(5,5))\n",
        "print(matrix(10,10))"
      ]
    },
    {
      "cell_type": "code",
      "execution_count": 5,
      "metadata": {
        "id": "iUJiZCXL21G2",
        "outputId": "eedead63-abf2-4ab5-dde2-085bbe29106b"
      },
      "outputs": [
        {
          "name": "stdout",
          "output_type": "stream",
          "text": [
            "Program executed successfully!\n"
          ]
        }
      ],
      "source": [
        "# DO NOT MODIFY\n",
        "# the code below is for testing if your logic is correct\n",
        "# this will return an error if you have a wrong implementation\n",
        "\n",
        "output = matrix(3,4)\n",
        "assert output == [[0, 0, 0, 0], [0, 1, 2, 3], [0, 2, 4, 6]]\n",
        "\n",
        "output = matrix(5,5)\n",
        "assert output == [[0, 0, 0, 0, 0], [0, 1, 2, 3, 4], [0, 2, 4, 6, 8], [0, 3, 6, 9, 12], [0, 4, 8, 12, 16]]\n",
        "\n",
        "output = matrix(10,10)\n",
        "assert output == [[0, 0, 0, 0, 0, 0, 0, 0, 0, 0], [0, 1, 2, 3, 4, 5, 6, 7, 8, 9], [0, 2, 4, 6, 8, 10, 12, 14, 16, 18], [0, 3, 6, 9, 12, 15, 18, 21, 24, 27], [0, 4, 8, 12, 16, 20, 24, 28, 32, 36], [0, 5, 10, 15, 20, 25, 30, 35, 40, 45], [0, 6, 12, 18, 24, 30, 36, 42, 48, 54], [0, 7, 14, 21, 28, 35, 42, 49, 56, 63], [0, 8, 16, 24, 32, 40, 48, 56, 64, 72], [0, 9, 18, 27, 36, 45, 54, 63, 72, 81]]\n",
        "\n",
        "print(\"Program executed successfully!\")"
      ]
    },
    {
      "cell_type": "markdown",
      "metadata": {
        "id": "f9aYPVVN21G2"
      },
      "source": [
        "## ASCII Art\n",
        "\n",
        "ASCII art is any art created by printing characters on the screen."
      ]
    },
    {
      "cell_type": "markdown",
      "metadata": {
        "id": "qrAcR6Yn21G3"
      },
      "source": [
        "### Problem 3: Box\n",
        "\n",
        "Write a Python program to construct the following pattern, using loops.\n",
        "\n",
        "if `n` is 5, this is the output:\n",
        "```\n",
        "* * * * *\n",
        "* * * * *\n",
        "* * * * *\n",
        "* * * * *\n",
        "* * * * *\n",
        "```\n",
        "\n",
        "if `n` is 9, this is the output:\n",
        "```\n",
        "* * * * * * * * *\n",
        "* * * * * * * * *\n",
        "* * * * * * * * *\n",
        "* * * * * * * * *\n",
        "* * * * * * * * *\n",
        "* * * * * * * * *\n",
        "* * * * * * * * *\n",
        "* * * * * * * * *\n",
        "* * * * * * * * *\n",
        "```\n",
        "\n",
        "Tip: `\\n` is newline in Python and other programming languages. Remember how to concatenate strings in Python."
      ]
    },
    {
      "cell_type": "code",
      "execution_count": 16,
      "metadata": {
        "id": "7SsY3vVX21G3",
        "outputId": "bd87f40b-2595-490a-93b8-e1444b9f6e38"
      },
      "outputs": [
        {
          "name": "stdout",
          "output_type": "stream",
          "text": [
            "* * * * * * * * * * * *\n",
            "* * * * * * * * * * * *\n",
            "* * * * * * * * * * * *\n",
            "* * * * * * * * * * * *\n",
            "* * * * * * * * * * * *\n",
            "* * * * * * * * * * * *\n",
            "* * * * * * * * * * * *\n",
            "* * * * * * * * * * * *\n",
            "* * * * * * * * * * * *\n",
            "* * * * * * * * * * * *\n",
            "* * * * * * * * * * * *\n",
            "* * * * * * * * * * * *\n",
            "\n"
          ]
        },
        {
          "data": {
            "text/plain": [
              "'* * * * * * * * * * * *\\n* * * * * * * * * * * *\\n* * * * * * * * * * * *\\n* * * * * * * * * * * *\\n* * * * * * * * * * * *\\n* * * * * * * * * * * *\\n* * * * * * * * * * * *\\n* * * * * * * * * * * *\\n* * * * * * * * * * * *\\n* * * * * * * * * * * *\\n* * * * * * * * * * * *\\n* * * * * * * * * * * *'"
            ]
          },
          "execution_count": 16,
          "metadata": {},
          "output_type": "execute_result"
        }
      ],
      "source": [
        "def box(n) -> str:\n",
        "    output = \"\"\n",
        "    for i in range(n):  # for each row\n",
        "        for j in range(n):  # for each column\n",
        "            output += \"* \"  # add a star and a space\n",
        "        output = output[:-1]  # remove the extra space at the end of each row\n",
        "        output += \"\\n\"  # add a newline after each row\n",
        "    return output\n",
        "\n",
        "n = 12\n",
        "output = box(n)\n",
        "print(output)\n",
        "output.strip()"
      ]
    },
    {
      "cell_type": "code",
      "execution_count": 17,
      "metadata": {
        "id": "xlx3SFd121G3",
        "outputId": "3326afa1-e0ba-4fde-ced4-283268f096c5"
      },
      "outputs": [
        {
          "name": "stdout",
          "output_type": "stream",
          "text": [
            "Program executed successfully!\n"
          ]
        }
      ],
      "source": [
        "# DO NOT MODIFY\n",
        "# the code below is for testing if your logic is correct\n",
        "# this will return an error if you have a wrong implementation\n",
        "\n",
        "n = 5\n",
        "output = box(n).strip()\n",
        "assert output == '* * * * *\\n* * * * *\\n* * * * *\\n* * * * *\\n* * * * *'\n",
        "\n",
        "n = 9\n",
        "output = box(n).strip()\n",
        "assert output == '* * * * * * * * *\\n* * * * * * * * *\\n* * * * * * * * *\\n* * * * * * * * *\\n* * * * * * * * *\\n* * * * * * * * *\\n* * * * * * * * *\\n* * * * * * * * *\\n* * * * * * * * *'\n",
        "\n",
        "n = 12\n",
        "output = box(n).strip()\n",
        "assert output == '* * * * * * * * * * * *\\n* * * * * * * * * * * *\\n* * * * * * * * * * * *\\n* * * * * * * * * * * *\\n* * * * * * * * * * * *\\n* * * * * * * * * * * *\\n* * * * * * * * * * * *\\n* * * * * * * * * * * *\\n* * * * * * * * * * * *\\n* * * * * * * * * * * *\\n* * * * * * * * * * * *\\n* * * * * * * * * * * *'\n",
        "\n",
        "print(\"Program executed successfully!\")"
      ]
    },
    {
      "cell_type": "markdown",
      "metadata": {
        "id": "ipVXI2Bz21G4"
      },
      "source": [
        "### Problem 4: Triangle\n",
        "\n",
        "Write a Python program to construct the following pattern, using loops.\n",
        "\n",
        "if `n` is 5, this is the output:\n",
        "```\n",
        "*\n",
        "* *\n",
        "* * *\n",
        "* * * *\n",
        "* * * * *\n",
        "* * * *\n",
        "* * *\n",
        "* *\n",
        "*\n",
        "```\n",
        "\n",
        "if `n` is 9, this is the output:\n",
        "```\n",
        "*\n",
        "* *\n",
        "* * *\n",
        "* * * *\n",
        "* * * * *\n",
        "* * * * * *\n",
        "* * * * * * *\n",
        "* * * * * * * *\n",
        "* * * * * * * * *\n",
        "* * * * * * * * * *\n",
        "* * * * * * * * *\n",
        "* * * * * * * *\n",
        "* * * * * * *\n",
        "* * * * * *\n",
        "* * * * *\n",
        "* * * *\n",
        "* * *\n",
        "* *\n",
        "*\n",
        "```\n",
        "\n",
        "\n",
        "Tip: `\\n` is newline in Python and other programming languages. Remember how to concatenate strings in Python."
      ]
    },
    {
      "cell_type": "code",
      "execution_count": null,
      "metadata": {
        "id": "UwRs9P_y21G4",
        "outputId": "338be06f-f0c2-428d-fa81-ae59546932b8"
      },
      "outputs": [
        {
          "name": "stdout",
          "output_type": "stream",
          "text": [
            "*\n",
            "* *\n",
            "* * *\n",
            "* * * *\n",
            "* * * * *\n",
            "* * * * * *\n",
            "* * * * *\n",
            "* * * *\n",
            "* * *\n",
            "* *\n",
            "*\n",
            "\n"
          ]
        }
      ],
      "source": [
        "def triangle(n) -> str:\n",
        "    # YOUR CODE HERE\n",
        "    output = \"\" # replace the blank with your output\n",
        "\n",
        "    for i in range(n):  # for each row\n",
        "        for j in range(i + 1):\n",
        "            output += \"* \"\n",
        "        output = output[:-1]\n",
        "        output += \"\\n\"\n",
        "\n",
        "    return output\n",
        "\n",
        "n = 5\n",
        "output = triangle(n)\n",
        "print(output)"
      ]
    },
    {
      "cell_type": "code",
      "execution_count": 21,
      "metadata": {},
      "outputs": [
        {
          "name": "stdout",
          "output_type": "stream",
          "text": [
            "*\n",
            "* *\n",
            "* * *\n",
            "* * * *\n",
            "* * * * *\n",
            "* * * *\n",
            "* * *\n",
            "* *\n",
            "*\n",
            "\n"
          ]
        }
      ],
      "source": [
        "def triangle(n) -> str:\n",
        "    # YOUR CODE HERE\n",
        "    output = \"\" # replace the blank with your output\n",
        "\n",
        "    for i in range(n):  # for each row\n",
        "        for j in range(i + 1):\n",
        "            output += \"* \"\n",
        "        output = output[:-1]\n",
        "        output += \"\\n\"\n",
        "\n",
        "    # print it in descending order\n",
        "    for i in range(n - 1, 0, -1):  # for each row\n",
        "        for j in range(i):\n",
        "            output += \"* \"\n",
        "        output = output[:-1]\n",
        "        output += \"\\n\" \n",
        "\n",
        "    return output\n",
        "\n",
        "n = 5\n",
        "output = triangle(n)\n",
        "print(output)"
      ]
    },
    {
      "cell_type": "code",
      "execution_count": null,
      "metadata": {
        "id": "DYWNUIRk21G4",
        "outputId": "7e7331b5-b149-4684-cd79-132cc9dbe4dd"
      },
      "outputs": [
        {
          "name": "stdout",
          "output_type": "stream",
          "text": [
            "Program executed successfully!\n"
          ]
        }
      ],
      "source": [
        "# DO NOT MODIFY\n",
        "# the code below is for testing if your logic is correct\n",
        "# this will return an error if you have a wrong implementation\n",
        "\n",
        "n = 5\n",
        "output = triangle(n).strip()\n",
        "assert output == '*\\n* *\\n* * *\\n* * * *\\n* * * * *\\n* * * * * *\\n* * * * *\\n* * * *\\n* * *\\n* *\\n*'\n",
        "\n",
        "n = 9\n",
        "output = triangle(n).strip()\n",
        "assert output == '*\\n* *\\n* * *\\n* * * *\\n* * * * *\\n* * * * * *\\n* * * * * * *\\n* * * * * * * *\\n* * * * * * * * *\\n* * * * * * * * * *\\n* * * * * * * * *\\n* * * * * * * *\\n* * * * * * *\\n* * * * * *\\n* * * * *\\n* * * *\\n* * *\\n* *\\n*'\n",
        "\n",
        "n = 12\n",
        "output = triangle(n).strip()\n",
        "assert output == '*\\n* *\\n* * *\\n* * * *\\n* * * * *\\n* * * * * *\\n* * * * * * *\\n* * * * * * * *\\n* * * * * * * * *\\n* * * * * * * * * *\\n* * * * * * * * * * *\\n* * * * * * * * * * * *\\n* * * * * * * * * * * * *\\n* * * * * * * * * * * *\\n* * * * * * * * * * *\\n* * * * * * * * * *\\n* * * * * * * * *\\n* * * * * * * *\\n* * * * * * *\\n* * * * * *\\n* * * * *\\n* * * *\\n* * *\\n* *\\n*'\n",
        "\n",
        "print(\"Program executed successfully!\")"
      ]
    },
    {
      "cell_type": "markdown",
      "metadata": {
        "id": "2r0DoZja21G4"
      },
      "source": [
        "## String Manipulation"
      ]
    },
    {
      "cell_type": "markdown",
      "metadata": {
        "id": "yw5aPac021G5"
      },
      "source": [
        "### Problem 5: Palindrome\n",
        "\n",
        "A palindrome is a word, number, phrase, or other sequence of symbols that reads the same backwards as forwards. Examples are kayak, madam, racecar, and girafarig (this is a Pokemon 😛).\n",
        "\n",
        "Create a program that determines if the string is a palindrome or not."
      ]
    },
    {
      "cell_type": "code",
      "execution_count": 22,
      "metadata": {
        "id": "goiyY6re21G5",
        "outputId": "6150c4dc-ae9b-4887-a75a-d344ff87223c"
      },
      "outputs": [
        {
          "name": "stdout",
          "output_type": "stream",
          "text": [
            "Is `kayak` a palindrome? True\n",
            "Is `colon` a palindrome? False\n",
            "Is `girafarig` a palindrome? True\n",
            "Is `saippuakivikauppias` a palindrome? True\n",
            "Is `PERIODPERIODPERIODPERIODPER` a palindrome? False\n"
          ]
        }
      ],
      "source": [
        "def is_palindrome(text) -> bool:\n",
        "    # YOUR CODE HERE\n",
        "    output = \"\" # replace the blank with your output\n",
        "\n",
        "    text = text.lower()\n",
        "    text = text.replace(\" \", \"\")\n",
        "\n",
        "    if text == text[::-1]:\n",
        "        output = True\n",
        "    else:\n",
        "        output = False\n",
        "        \n",
        "\n",
        "    return output\n",
        "\n",
        "text = 'kayak'\n",
        "output = is_palindrome(text)\n",
        "print(f\"Is `{text}` a palindrome?\", output)\n",
        "\n",
        "text = 'colon'\n",
        "output = is_palindrome(text)\n",
        "print(f\"Is `{text}` a palindrome?\", output)\n",
        "\n",
        "text = 'girafarig'\n",
        "output = is_palindrome(text)\n",
        "print(f\"Is `{text}` a palindrome?\", output)\n",
        "\n",
        "text = 'saippuakivikauppias'\n",
        "output = is_palindrome(text)\n",
        "print(f\"Is `{text}` a palindrome?\", output)\n",
        "\n",
        "text = 'PERIODPERIODPERIODPERIODPER'\n",
        "output = is_palindrome(text)\n",
        "print(f\"Is `{text}` a palindrome?\", output)"
      ]
    },
    {
      "cell_type": "code",
      "execution_count": 23,
      "metadata": {
        "id": "TFSCFNfp21G5",
        "outputId": "c338073a-586a-41b7-a2e1-2c95f64f1b4b"
      },
      "outputs": [
        {
          "name": "stdout",
          "output_type": "stream",
          "text": [
            "Program executed successfully!\n"
          ]
        }
      ],
      "source": [
        "# DO NOT MODIFY\n",
        "# the code below is for testing if your logic is correct\n",
        "# this will return an error if you have a wrong implementation\n",
        "\n",
        "text = 'kayak'\n",
        "output = is_palindrome(text)\n",
        "assert output==True\n",
        "\n",
        "text = 'colon'\n",
        "output = is_palindrome(text)\n",
        "assert output==False\n",
        "\n",
        "text = 'girafarig'\n",
        "output = is_palindrome(text)\n",
        "assert output==True\n",
        "\n",
        "text = 'saippuakivikauppias'\n",
        "output = is_palindrome(text)\n",
        "assert output==True\n",
        "\n",
        "text = 'PERIODPERIODPERIODPERIODPER'\n",
        "output = is_palindrome(text)\n",
        "assert output==False\n",
        "\n",
        "print(\"Program executed successfully!\")"
      ]
    },
    {
      "cell_type": "markdown",
      "metadata": {
        "id": "WbAoo2Pl21G5"
      },
      "source": [
        "### Problem 6: Substring Count\n",
        "\n",
        "Count the number of substring matches in a string. For example:\n",
        "\n",
        "String: `abababa`  \n",
        "Substrings: `(aba)baba`, `ab(aba)ba`, `abab(aba)`  \n",
        "There are 3 substring matches.  "
      ]
    },
    {
      "cell_type": "code",
      "execution_count": 26,
      "metadata": {
        "id": "6MvmQ5YL21G5",
        "outputId": "212b9a16-e914-44bf-abaa-d0c57e710586"
      },
      "outputs": [
        {
          "name": "stdout",
          "output_type": "stream",
          "text": [
            "3\n",
            "7\n",
            "4\n"
          ]
        }
      ],
      "source": [
        "def substring_count(text, substring) -> int:\n",
        "    # YOUR CODE HERE\n",
        "    output = \"\" # replace the blank with your output\n",
        "\n",
        "    count = 0\n",
        "    for i in range(len(text)):\n",
        "        if text[i:i+len(substring)] == substring:\n",
        "            count += 1\n",
        "    output = count    \n",
        "\n",
        "    return output\n",
        "\n",
        "text = 'abababa'\n",
        "substring = 'aba'\n",
        "print(substring_count(text, substring))\n",
        "\n",
        "text = 'llalallalaaalalala'\n",
        "substring = 'la'\n",
        "print(substring_count(text, substring))\n",
        "\n",
        "text = 'bWKOs%O$2#yucfNyY=MB+JHA*8atBGche&u&q+hMPebqE#BONuAF3gBCZY+Nea*RJMEUOnN&2qMfPbFAgAa0xZa6w@7$WTpz+Zt8'\n",
        "substring = 'A'\n",
        "print(substring_count(text, substring))"
      ]
    },
    {
      "cell_type": "code",
      "execution_count": 27,
      "metadata": {
        "id": "uK4xvFaX21G6",
        "outputId": "97cda273-46fe-4e6b-c21a-cbb379df2a1b"
      },
      "outputs": [
        {
          "name": "stdout",
          "output_type": "stream",
          "text": [
            "Program executed successfully!\n"
          ]
        }
      ],
      "source": [
        "# DO NOT MODIFY\n",
        "# the code below is for testing if your logic is correct\n",
        "# this will return an error if you have a wrong implementation\n",
        "\n",
        "text = 'abababa'\n",
        "substring = 'aba'\n",
        "output = substring_count(text, substring)\n",
        "assert output==3\n",
        "\n",
        "text = 'llalallalaaalalala'\n",
        "substring = 'la'\n",
        "output = substring_count(text, substring)\n",
        "assert output==7\n",
        "\n",
        "text = 'bWKOs%O$2#yucfNyY=MB+JHA*8atBGche&u&q+hMPebqE#BONuAF3gBCZY+Nea*RJMEUOnN&2qMfPbFAgAa0xZa6w@7$WTpz+Zt8'\n",
        "substring = 'A'\n",
        "output = substring_count(text, substring)\n",
        "assert output==4\n",
        "\n",
        "print(\"Program executed successfully!\")"
      ]
    },
    {
      "cell_type": "markdown",
      "metadata": {
        "id": "v2BVLoJn21G6"
      },
      "source": [
        "## End\n",
        "<sup>made by **Jude Michael Teves**</sup> <br>\n",
        "<sup>for comments, corrections, suggestions, please email:</sup><sup> <href>judemichaelteves@gmail.com</href> or <href>jude.teves@dlsu.edu.ph</href></sup><br>\n"
      ]
    }
  ],
  "metadata": {
    "colab": {
      "provenance": []
    },
    "kernelspec": {
      "display_name": "base",
      "language": "python",
      "name": "python3"
    },
    "language_info": {
      "codemirror_mode": {
        "name": "ipython",
        "version": 3
      },
      "file_extension": ".py",
      "mimetype": "text/x-python",
      "name": "python",
      "nbconvert_exporter": "python",
      "pygments_lexer": "ipython3",
      "version": "3.12.2"
    }
  },
  "nbformat": 4,
  "nbformat_minor": 0
}
